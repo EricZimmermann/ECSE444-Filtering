{
 "cells": [
  {
   "cell_type": "markdown",
   "metadata": {},
   "source": [
    "# Imports"
   ]
  },
  {
   "cell_type": "code",
   "execution_count": 1,
   "metadata": {},
   "outputs": [],
   "source": [
    "import numpy as np\n",
    "import matplotlib.pyplot as plt\n",
    "import os\n",
    "import re"
   ]
  },
  {
   "cell_type": "markdown",
   "metadata": {},
   "source": [
    "# Helper"
   ]
  },
  {
   "cell_type": "code",
   "execution_count": 2,
   "metadata": {},
   "outputs": [],
   "source": [
    "def scrapeInfo(fp):\n",
    "    with open(fp, 'r+') as f:\n",
    "        content = f.read()\n",
    "        lines = content.split('\\n')\n",
    "        time = lines[-2]\n",
    "        if \"Time taken Cooley Turkey FFT: \" in time:\n",
    "            time = re.sub(\"Time taken Cooley Turkey FFT: \", \"\", time)\n",
    "        if \"Time taken Naive FFT: \" in time:\n",
    "            time = re.sub(\"Time taken Naive FFT: \", \"\", time)\n",
    "        if \"Time taken Convolution: \" in time:\n",
    "            time = re.sub(\"Time taken Convolution: \", \"\", time)\n",
    "        \n",
    "        time = re.sub(\" us\", \"\", time)\n",
    "        time = float(time)\n",
    "        psnr = float(re.sub(\"PSNR: \", \"\", lines[-1]))\n",
    "        return [time, psnr]"
   ]
  },
  {
   "cell_type": "markdown",
   "metadata": {},
   "source": [
    "# Info Loading"
   ]
  },
  {
   "cell_type": "code",
   "execution_count": 3,
   "metadata": {},
   "outputs": [
    {
     "name": "stdout",
     "output_type": "stream",
     "text": [
      "Num experiments:  99\n",
      "ex exp: conv_128_11_0.5\n"
     ]
    }
   ],
   "source": [
    "os.system(\"rm ./experiments/.DS_Store\")\n",
    "exp_dir = \"./experiments\"\n",
    "exp_dirs = sorted(os.listdir(exp_dir))\n",
    "print(\"Num experiments: \", len(exp_dirs))\n",
    "print(\"ex exp:\", exp_dirs[0])"
   ]
  },
  {
   "cell_type": "code",
   "execution_count": 4,
   "metadata": {},
   "outputs": [
    {
     "name": "stdout",
     "output_type": "stream",
     "text": [
      "./experiments/conv_32_5_0.5/logging.txt\n",
      "[375.0, 26.145951016039206]\n"
     ]
    }
   ],
   "source": [
    "test_path = \"./experiments/conv_32_5_0.5/logging.txt\"\n",
    "print(test_path)\n",
    "print(scrapeInfo(test_path))"
   ]
  },
  {
   "cell_type": "code",
   "execution_count": 5,
   "metadata": {},
   "outputs": [
    {
     "name": "stdout",
     "output_type": "stream",
     "text": [
      "unique conv size: [32, 64, 128, 256, 512]\n",
      "unique conv kernels: [3, 5, 7, 9, 11]\n",
      "unique conv sigmas: [0.5, 0.85, 1.25]\n",
      "unique dft size: [32, 64, 128]\n",
      "unique dft r: [0.3, 1.0, 3.0]\n",
      "unique fft size: [32, 64, 128, 256, 512]\n",
      "unique fft r: [0.3, 1.0, 3.0]\n"
     ]
    }
   ],
   "source": [
    "# get uniques\n",
    "# convs\n",
    "c_kernel = []\n",
    "c_size = []\n",
    "c_sigma = []\n",
    "\n",
    "# dft\n",
    "d_r = []\n",
    "d_size = []\n",
    "\n",
    "# fft\n",
    "f_r = []\n",
    "f_size = []\n",
    "\n",
    "# group exps\n",
    "for exp in exp_dirs:\n",
    "    args = exp.split('_')\n",
    "    if args[0] == 'conv':\n",
    "        c_size.append(int(args[1]))\n",
    "        c_kernel.append(int(args[2]))\n",
    "        c_sigma.append(float(args[3]))\n",
    "    if args[0] == 'dft':\n",
    "        d_size.append(int(args[1]))\n",
    "        d_r.append(float(args[2]))\n",
    "    if args[0] == 'fft':\n",
    "        f_size.append(int(args[1]))\n",
    "        f_r.append(float(args[2]))\n",
    "\n",
    "c_kernel = sorted(np.unique(c_kernel))\n",
    "c_size = sorted(np.unique(c_size))\n",
    "c_sigma = sorted(np.unique(c_sigma))\n",
    "d_r = sorted(np.unique(d_r))\n",
    "d_size = sorted(np.unique(d_size))\n",
    "f_r = sorted(np.unique(f_r))\n",
    "f_size = sorted(np.unique(f_size))\n",
    "\n",
    "print(\"unique conv size:\", c_size)\n",
    "print(\"unique conv kernels:\", c_kernel)\n",
    "print(\"unique conv sigmas:\", c_sigma)\n",
    "print(\"unique dft size:\", d_size)\n",
    "print(\"unique dft r:\", f_r)\n",
    "print(\"unique fft size:\", f_size)\n",
    "print(\"unique fft r:\", f_r)"
   ]
  },
  {
   "cell_type": "code",
   "execution_count": 6,
   "metadata": {},
   "outputs": [],
   "source": [
    "# generate dicts\n",
    "convs = {s :{ k:{ sig: None for sig in c_sigma} for k in c_kernel} for s in c_size}\n",
    "dfts = {s : { r: None for r in d_r} for s in d_size}\n",
    "ffts = {s : { r: None for r in f_r} for s in f_size}"
   ]
  },
  {
   "cell_type": "markdown",
   "metadata": {},
   "source": [
    "# Population"
   ]
  },
  {
   "cell_type": "code",
   "execution_count": 7,
   "metadata": {},
   "outputs": [],
   "source": [
    "# group exps\n",
    "for exp in exp_dirs:\n",
    "    args = exp.split('_')\n",
    "    path = os.path.join(exp_dir, exp)\n",
    "    file = os.path.join(path, 'logging.txt')\n",
    "    if args[0] == 'conv':\n",
    "        convs[int(args[1])][int(args[2])][float(args[3])] = scrapeInfo(file)\n",
    "    if args[0] == 'dft':\n",
    "        dfts[int(args[1])][float(args[2])] = scrapeInfo(file)\n",
    "    if args[0] == 'fft':\n",
    "        ffts[int(args[1])][float(args[2])] = scrapeInfo(file)"
   ]
  },
  {
   "cell_type": "markdown",
   "metadata": {},
   "source": [
    "# Plots"
   ]
  },
  {
   "cell_type": "markdown",
   "metadata": {},
   "source": [
    "## Time vs Size"
   ]
  },
  {
   "cell_type": "code",
   "execution_count": 8,
   "metadata": {},
   "outputs": [
    {
     "data": {
      "image/png": "[encoded data removed]",
      "text/plain": [
       "<Figure size 432x288 with 1 Axes>"
      ]
     },
     "metadata": {
      "needs_background": "light"
     },
     "output_type": "display_data"
    }
   ],
   "source": [
    "# Time plots\n",
    "legend = []\n",
    "# convs\n",
    "for kernel in c_kernel:\n",
    "    y = []\n",
    "    x = []\n",
    "    for size in c_size:\n",
    "        y.append(convs[size][kernel][c_sigma[0]][0] / 1e3)\n",
    "        x.append(size)\n",
    "    legend.append(\"Kernel: \" + str(kernel))\n",
    "    plt.plot(np.log2(x), y)\n",
    "\n",
    "# fft\n",
    "y = []\n",
    "x = []\n",
    "for size in c_size:\n",
    "    y.append(ffts[size][f_r[0]][0] / 1e3)\n",
    "    x.append(size)\n",
    "legend.append(\"FFT\")\n",
    "plt.plot(np.log2(x), y, color='brown')\n",
    "plt.legend(legend)\n",
    "plt.title(\"Denoising Time vs Size\")\n",
    "plt.xticks(np.arange(5,10))\n",
    "plt.xlabel(\"log2(size)\")\n",
    "plt.ylabel(\"Time (ms)\")\n",
    "plt.show()"
   ]
  },
  {
   "cell_type": "markdown",
   "metadata": {},
   "source": [
    "## PSNR vs Kernel Size"
   ]
  },
  {
   "cell_type": "code",
   "execution_count": 9,
   "metadata": {},
   "outputs": [
    {
     "name": "stdout",
     "output_type": "stream",
     "text": [
      "Best PSNR at size 32 is 26.145951016039206 at sigma 0.5 with kernel 5\n",
      "Best PSNR at size 64 is 27.29614660269283 at sigma 0.5 with kernel 3\n",
      "Best PSNR at size 128 is 28.489909744226548 at sigma 0.5 with kernel 11\n",
      "Best PSNR at size 256 is 30.753291196628464 at sigma 0.85 with kernel 3\n",
      "Best PSNR at size 512 is 32.463209718892585 at sigma 0.85 with kernel 5\n"
     ]
    }
   ],
   "source": [
    "psnr = 0\n",
    "sigma = 0\n",
    "kern = 0\n",
    "for size in c_size:\n",
    "    psnr = 0\n",
    "    sigma = 0\n",
    "    for kernel in c_kernel:\n",
    "        for sig in c_sigma:\n",
    "            if convs[size][kernel][sig][1] > psnr:\n",
    "                psnr = convs[size][kernel][sig][1]\n",
    "                sigma = sig\n",
    "                kern = kernel\n",
    "                \n",
    "    print(\"Best PSNR at size \"+str(size)+\" is \"+str(psnr)+\" at sigma \"+str(sigma)+\" with kernel \"+str(kern))        "
   ]
  },
  {
   "cell_type": "markdown",
   "metadata": {},
   "source": [
    "# Best FFT PSNR"
   ]
  },
  {
   "cell_type": "code",
   "execution_count": 10,
   "metadata": {},
   "outputs": [
    {
     "name": "stdout",
     "output_type": "stream",
     "text": [
      "Best PSNR at size 32 is 26.676678522062854 at r 0.3\n",
      "Best PSNR at size 64 is 27.198177482238705 at r 0.3\n",
      "Best PSNR at size 128 is 28.430769089006887 at r 1.0\n",
      "Best PSNR at size 256 is 30.20171233653806 at r 1.0\n",
      "Best PSNR at size 512 is 32.224122688846506 at r 3.0\n"
     ]
    }
   ],
   "source": [
    "psnr = 0\n",
    "r = 0\n",
    "for size in f_size:\n",
    "    psnr = 0\n",
    "    r = 0\n",
    "    for rr in f_r:\n",
    "        if ffts[size][rr][1] > psnr:\n",
    "            psnr = ffts[size][rr][1]\n",
    "            r = rr\n",
    "                \n",
    "    print(\"Best PSNR at size \"+str(size)+\" is \"+str(psnr)+\" at r \"+str(r))\n",
    "            "
   ]
  }
 ],
 "metadata": {
  "kernelspec": {
   "display_name": "Python 3",
   "language": "python",
   "name": "python3"
  },
  "language_info": {
   "codemirror_mode": {
    "name": "ipython",
    "version": 3
   },
   "file_extension": ".py",
   "mimetype": "text/x-python",
   "name": "python",
   "nbconvert_exporter": "python",
   "pygments_lexer": "ipython3",
   "version": "3.7.6"
  }
 },
 "nbformat": 4,
 "nbformat_minor": 4
}
