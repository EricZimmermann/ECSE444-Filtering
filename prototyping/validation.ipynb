{
 "cells": [
  {
   "cell_type": "markdown",
   "metadata": {},
   "source": [
    "# Import"
   ]
  },
  {
   "cell_type": "code",
   "execution_count": 1,
   "metadata": {},
   "outputs": [],
   "source": [
    "# generic\n",
    "import matplotlib.pyplot as plt\n",
    "import numpy as np\n",
    "\n",
    "# custom\n",
    "import obj\n",
    "import processing"
   ]
  },
  {
   "cell_type": "markdown",
   "metadata": {},
   "source": [
    "# Toggles"
   ]
  },
  {
   "cell_type": "code",
   "execution_count": 2,
   "metadata": {},
   "outputs": [],
   "source": [
    "is_kernel = False\n",
    "is_conv = False\n",
    "is_fft = False\n",
    "is_nlm = False"
   ]
  },
  {
   "cell_type": "markdown",
   "metadata": {},
   "source": [
    "# Setup"
   ]
  },
  {
   "cell_type": "code",
   "execution_count": 3,
   "metadata": {},
   "outputs": [],
   "source": [
    "if is_nlm or is_fft or is_conv or is_kernel:\n",
    "    test_path = './test.png'\n",
    "    size = 128\n",
    "    img = obj.Image(test_path, size)\n",
    "    print(\"Image size: \", img.data.shape)\n",
    "    plt.imshow(img.data, cmap ='gray')"
   ]
  },
  {
   "cell_type": "markdown",
   "metadata": {},
   "source": [
    "# Kernel Test"
   ]
  },
  {
   "cell_type": "code",
   "execution_count": 4,
   "metadata": {},
   "outputs": [],
   "source": [
    "if is_kernel:\n",
    "    # create ad populate kernel\n",
    "    kernel = obj.Kernel(3)\n",
    "    kernel.generateFilter(1)\n",
    "\n",
    "    print(\"Generated Filter\")\n",
    "    print(kernel.data)\n",
    "    print(\"Sum:\", np.sum(kernel.data))\n",
    "    print('\\n')\n",
    "    print(\"Pretty Generated Filter\")\n",
    "    print(kernel.data / np.min(kernel.data))\n",
    "    print(\"Sum:\", np.sum(kernel.data))"
   ]
  },
  {
   "cell_type": "markdown",
   "metadata": {},
   "source": [
    "# Convolution Test"
   ]
  },
  {
   "cell_type": "code",
   "execution_count": 5,
   "metadata": {},
   "outputs": [],
   "source": [
    "if is_conv:   \n",
    "    img_in = obj.Image(test_path, size)\n",
    "    img_out = obj.Image(test_path, size)\n",
    "    img_out.clear()\n",
    "\n",
    "    processing.convolve(img_in, img_out, kernel)\n",
    "\n",
    "    plt.rcParams[\"figure.figsize\"] = (15,15)\n",
    "    plt.subplot(121), plt.imshow(img_in.data, cmap='gray')\n",
    "    plt.title(\"Fig 1: Original Image\"), plt.xticks([]), plt.yticks([])\n",
    "    plt.subplot(122), plt.imshow(img_out.data,  cmap='gray')\n",
    "    plt.title(\"Fig 2: Smoothed Image\"), plt.xticks([]), plt.yticks([])\n",
    "    plt.show()"
   ]
  },
  {
   "cell_type": "markdown",
   "metadata": {},
   "source": [
    "# Fourier Test"
   ]
  },
  {
   "cell_type": "code",
   "execution_count": 6,
   "metadata": {},
   "outputs": [],
   "source": [
    "if is_fft:\n",
    "    cimg_in = img = obj.CImage(test_path, size // 4)\n",
    "    cimg_out = img = obj.CImage(test_path, size // 4)\n",
    "    img_rev = img = obj.Image(test_path, size // 4)\n",
    "    img_rev.clear()\n",
    "    cimg_out.clear()\n",
    "\n",
    "    processing.fft(cimg_in, cimg_out)\n",
    "    processing.ifft(cimg_out, img_rev)\n",
    "\n",
    "    plt.rcParams[\"figure.figsize\"] = (15,15)\n",
    "    plt.subplot(121), plt.imshow(cimg_in.re, cmap='gray')\n",
    "    plt.title(\"Fig 1: Original Image\"), plt.xticks([]), plt.yticks([])\n",
    "    plt.subplot(122), plt.imshow(img_rev.data,  cmap='gray')\n",
    "    plt.title(\"Fig 2: Reverted Image\"), plt.xticks([]), plt.yticks([])\n",
    "    plt.show()"
   ]
  },
  {
   "cell_type": "markdown",
   "metadata": {},
   "source": [
    "# Non-Local Means Test"
   ]
  },
  {
   "cell_type": "code",
   "execution_count": 7,
   "metadata": {},
   "outputs": [],
   "source": [
    "def fuzz(image, ranges, p=0.15):\n",
    "    rows, cols = image.shape\n",
    "    for row in range(rows):\n",
    "        for col in range(cols):\n",
    "            if(np.random.uniform() < p):\n",
    "                image[row][col] += np.random.randint(-ranges, ranges)"
   ]
  },
  {
   "cell_type": "code",
   "execution_count": 8,
   "metadata": {},
   "outputs": [],
   "source": [
    "if is_nlm:\n",
    "    img_gt = obj.Image(test_path, size // 2)\n",
    "    img_in = obj.Image(test_path, size // 2)\n",
    "    fuzz(img_in.data, 15, 0.9)\n",
    "    img_out = obj.Image(test_path, size //2)\n",
    "    img_out.clear()\n",
    "\n",
    "    processing.nlm(img_in, img_out, 7, 3, 0.5)\n",
    "\n",
    "    plt.rcParams[\"figure.figsize\"] = (20,20)\n",
    "    plt.subplot(131), plt.imshow(img_gt.data, cmap='gray')\n",
    "    plt.title(\"Fig 2: Input Image\"), plt.xticks([]), plt.yticks([])\n",
    "    plt.subplot(132), plt.imshow(img_in.data, cmap='gray')\n",
    "    plt.title(\"Fig 2: Noise Image\"), plt.xticks([]), plt.yticks([])\n",
    "    plt.subplot(133), plt.imshow(img_out.data,  cmap='gray')\n",
    "    plt.title(\"Fig 3: Smoothed Image\"), plt.xticks([]), plt.yticks([])\n",
    "    plt.show()"
   ]
  }
 ],
 "metadata": {
  "kernelspec": {
   "display_name": "Python 3",
   "language": "python",
   "name": "python3"
  },
  "language_info": {
   "codemirror_mode": {
    "name": "ipython",
    "version": 3
   },
   "file_extension": ".py",
   "mimetype": "text/x-python",
   "name": "python",
   "nbconvert_exporter": "python",
   "pygments_lexer": "ipython3",
   "version": "3.7.6"
  }
 },
 "nbformat": 4,
 "nbformat_minor": 4
}
