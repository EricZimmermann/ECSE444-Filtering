{
 "cells": [
  {
   "cell_type": "markdown",
   "metadata": {},
   "source": [
    "# Import"
   ]
  },
  {
   "cell_type": "code",
   "execution_count": 1,
   "metadata": {},
   "outputs": [
    {
     "ename": "SyntaxError",
     "evalue": "invalid syntax (processing.py, line 137)",
     "output_type": "error",
     "traceback": [
      "Traceback \u001b[0;36m(most recent call last)\u001b[0m:\n",
      "  File \u001b[1;32m\"/Applications/anaconda3/lib/python3.7/site-packages/IPython/core/interactiveshell.py\"\u001b[0m, line \u001b[1;32m3331\u001b[0m, in \u001b[1;35mrun_code\u001b[0m\n    exec(code_obj, self.user_global_ns, self.user_ns)\n",
      "\u001b[0;36m  File \u001b[0;32m\"<ipython-input-1-4ef6f81bfdf2>\"\u001b[0;36m, line \u001b[0;32m9\u001b[0;36m, in \u001b[0;35m<module>\u001b[0;36m\u001b[0m\n\u001b[0;31m    import processing\u001b[0m\n",
      "\u001b[0;36m  File \u001b[0;32m\"/Users/eric/Desktop/ECSE444-Filtering/prototyping/processing.py\"\u001b[0;36m, line \u001b[0;32m137\u001b[0m\n\u001b[0;31m    if d is == 1:\u001b[0m\n\u001b[0m             ^\u001b[0m\n\u001b[0;31mSyntaxError\u001b[0m\u001b[0;31m:\u001b[0m invalid syntax\n"
     ]
    }
   ],
   "source": [
    "# generic\n",
    "import matplotlib.pyplot as plt\n",
    "import numpy as np\n",
    "from copy import copy\n",
    "import time\n",
    "\n",
    "# custom\n",
    "import obj\n",
    "import processing"
   ]
  },
  {
   "cell_type": "markdown",
   "metadata": {},
   "source": [
    "# Toggles"
   ]
  },
  {
   "cell_type": "code",
   "execution_count": null,
   "metadata": {},
   "outputs": [],
   "source": [
    "is_kernel = False\n",
    "is_conv = False\n",
    "is_fft = True\n",
    "is_ct = True"
   ]
  },
  {
   "cell_type": "markdown",
   "metadata": {},
   "source": [
    "# Helper"
   ]
  },
  {
   "cell_type": "code",
   "execution_count": null,
   "metadata": {},
   "outputs": [],
   "source": [
    "def fuzz(image, ranges, p=0.15):\n",
    "    rows, cols = image.shape\n",
    "    for row in range(rows):\n",
    "        for col in range(cols):\n",
    "            if(np.random.uniform() < p):\n",
    "                image[row][col] += np.random.randint(-ranges, ranges)"
   ]
  },
  {
   "cell_type": "code",
   "execution_count": null,
   "metadata": {},
   "outputs": [],
   "source": [
    "# vectorized\n",
    "def magnitude(cimage):\n",
    "    return np.sqrt(np.power(cimage.re, 2) + np.power(cimage.im, 2))\n",
    "\n",
    "def logTransform(spectrum):\n",
    "    return np.log10(spectrum)"
   ]
  },
  {
   "cell_type": "markdown",
   "metadata": {},
   "source": [
    "# Setup"
   ]
  },
  {
   "cell_type": "code",
   "execution_count": null,
   "metadata": {},
   "outputs": [],
   "source": [
    "if is_fft or is_conv or is_kernel:\n",
    "    test_path = './test.png'\n",
    "    size = 128\n",
    "    img = obj.Image(test_path, size)\n",
    "    print(\"Image size: \", img.data.shape)\n",
    "    plt.rcParams[\"figure.figsize\"] = (5,5)\n",
    "    plt.imshow(img.data, cmap ='gray')"
   ]
  },
  {
   "cell_type": "markdown",
   "metadata": {},
   "source": [
    "# Shift Test"
   ]
  },
  {
   "cell_type": "code",
   "execution_count": null,
   "metadata": {},
   "outputs": [],
   "source": [
    "dummy_img = obj.Image(test_path, size)\n",
    "dummy_img2 = obj.Image(test_path, size)\n",
    "dummy_img3 = obj.Image(test_path, size)\n",
    "quad = size // 2\n",
    "dummy_img.data[quad:, quad:] = 10\n",
    "dummy_img.data[:quad, :quad] = 20\n",
    "dummy_img.data[:quad, quad:] = 30\n",
    "dummy_img.data[quad:, :quad] = 40\n",
    "dummy_img3.data[quad:, quad:] = 10\n",
    "dummy_img3.data[:quad, :quad] = 20\n",
    "dummy_img3.data[:quad, quad:] = 30\n",
    "dummy_img3.data[quad:, :quad] = 40\n",
    "\n",
    "t0 = time.time()\n",
    "quick_shift = processing.quickShift(dummy_img.data)\n",
    "t1 = time.time()\n",
    "print(\"Quickshift Time:\", t1-t0)\n",
    "t0 = time.time()\n",
    "processing.shift(dummy_img, dummy_img2, inplace=False)\n",
    "t1 = time.time()\n",
    "print(\"Copy Shift Time:\", t1-t0)\n",
    "t0 = time.time()\n",
    "processing.shift(dummy_img3)\n",
    "t1 = time.time()\n",
    "print(\"Inpl Shift Time:\", t1-t0)\n",
    "\n",
    "plt.rcParams[\"figure.figsize\"] = (20,20)\n",
    "plt.subplot(141), plt.imshow(dummy_img.data)\n",
    "plt.title(\"Fig 1: Original Img\"), plt.xticks([]), plt.yticks([])\n",
    "plt.subplot(142), plt.imshow(quick_shift)\n",
    "plt.title(\"Fig 2: Quick Shift\"), plt.xticks([]), plt.yticks([])\n",
    "plt.subplot(143), plt.imshow(dummy_img2.data)\n",
    "plt.title(\"Fig 3: Regular Shift\"), plt.xticks([]), plt.yticks([])\n",
    "plt.subplot(144), plt.imshow(dummy_img3.data)\n",
    "plt.title(\"Fig 4: Inplace Shift\"), plt.xticks([]), plt.yticks([])\n",
    "plt.show()  "
   ]
  },
  {
   "cell_type": "markdown",
   "metadata": {},
   "source": [
    "# Kernel Test"
   ]
  },
  {
   "cell_type": "code",
   "execution_count": null,
   "metadata": {},
   "outputs": [],
   "source": [
    "if is_kernel:\n",
    "    # create ad populate kernel\n",
    "    kernel = obj.Kernel(3)\n",
    "    kernel.generateFilter(0.87)\n",
    "\n",
    "    print(\"Generated Filter\")\n",
    "    print(kernel.data)\n",
    "    print(\"Sum:\", np.sum(kernel.data))\n",
    "    print('\\n')\n",
    "    print(\"Pretty Generated Filter\")\n",
    "    print(kernel.data / np.min(kernel.data))\n",
    "    print(\"Sum:\", np.sum(kernel.data))"
   ]
  },
  {
   "cell_type": "markdown",
   "metadata": {},
   "source": [
    "# Convolution Test"
   ]
  },
  {
   "cell_type": "code",
   "execution_count": null,
   "metadata": {},
   "outputs": [],
   "source": [
    "if is_conv:   \n",
    "    img_in = obj.Image(test_path, size)\n",
    "    img_out = obj.Image(test_path, size)\n",
    "    img_out.clear()\n",
    "\n",
    "    processing.convolve(img_in, img_out, kernel)\n",
    "\n",
    "    plt.rcParams[\"figure.figsize\"] = (15,15)\n",
    "    plt.subplot(121), plt.imshow(img_in.data, cmap='gray')\n",
    "    plt.title(\"Fig 1: Original Image\"), plt.xticks([]), plt.yticks([])\n",
    "    plt.subplot(122), plt.imshow(img_out.data,  cmap='gray')\n",
    "    plt.title(\"Fig 2: Smoothed Image\"), plt.xticks([]), plt.yticks([])\n",
    "    plt.show()\n",
    "    \n",
    "    print(img_out.data.min(), img_out.data.max())"
   ]
  },
  {
   "cell_type": "markdown",
   "metadata": {},
   "source": [
    "# Fourier Test"
   ]
  },
  {
   "cell_type": "code",
   "execution_count": null,
   "metadata": {},
   "outputs": [],
   "source": [
    "if is_fft:\n",
    "    cimg_in = obj.CImage(test_path, size)\n",
    "    cimg_out = obj.CImage(test_path, size)\n",
    "    img_rev = obj.Image(test_path, size)\n",
    "    img_rev.clear()\n",
    "\n",
    "    if is_ct:\n",
    "        processing.ct_fft(cimg_out)\n",
    "    else:\n",
    "        cimg_out.clear()\n",
    "        processing.fft(cimg_in, cimg_out)"
   ]
  },
  {
   "cell_type": "code",
   "execution_count": null,
   "metadata": {},
   "outputs": [],
   "source": [
    "if is_fft:\n",
    "    spectrum = magnitude(cimg_out)\n",
    "    scale_spectrum = logTransform(spectrum)\n",
    "    shift_spectrum = processing.quickShift(scale_spectrum)\n",
    "    unshift_spectrum = processing.quickShift(shift_spectrum)\n",
    "    \n",
    "    plt.rcParams[\"figure.figsize\"] = (20,20)\n",
    "    plt.subplot(141), plt.imshow(spectrum, cmap='gray')\n",
    "    plt.title(\"Fig 1: Original Spectrum Magnitude\"), plt.xticks([]), plt.yticks([])\n",
    "    plt.subplot(142), plt.imshow(scale_spectrum,  cmap='gray')\n",
    "    plt.title(\"Fig 2: Log Transformed Spectrum Magnitude\"), plt.xticks([]), plt.yticks([])\n",
    "    plt.subplot(143), plt.imshow(shift_spectrum,  cmap='gray')\n",
    "    plt.title(\"Fig 3: Shifted Spectrum Magnitude\"), plt.xticks([]), plt.yticks([])\n",
    "    plt.subplot(144), plt.imshow(unshift_spectrum,  cmap='gray')\n",
    "    plt.title(\"Fig 4: Unshifted Spectrum Magnitude\"), plt.xticks([]), plt.yticks([])\n",
    "    plt.show()"
   ]
  },
  {
   "cell_type": "code",
   "execution_count": null,
   "metadata": {},
   "outputs": [],
   "source": [
    "if is_fft:\n",
    "    c_filter = obj.Hamming(size)\n",
    "    c_filter.generateFilter(1)\n",
    "    \n",
    "    #sharpen\n",
    "    #c_filter.data = np.abs(c_filter.data - 1)\n",
    "    \n",
    "    shift_filter = processing.quickShift(c_filter.data)\n",
    "    \n",
    "    plt.rcParams[\"figure.figsize\"] = (15,15)\n",
    "    plt.subplot(121),plt.imshow(c_filter.data, cmap='gray')\n",
    "    plt.title(\"Hamming Filter\"), plt.xticks([]), plt.yticks([])\n",
    "    plt.subplot(122),plt.imshow(shift_filter, cmap='gray')\n",
    "    plt.title(\"Unshift Hamming Filter\"), plt.xticks([]), plt.yticks([])\n",
    "    plt.show()"
   ]
  },
  {
   "cell_type": "code",
   "execution_count": null,
   "metadata": {},
   "outputs": [],
   "source": [
    "if is_fft:\n",
    "    c_filter.data = shift_filter\n",
    "    processing.lowpass(cimg_out, c_filter)\n",
    "    \n",
    "    if is_ct:\n",
    "        img_revp = obj.CImage(test_path, size)\n",
    "        img_revp.re = copy(cimg_out.re)\n",
    "        img_revp.im = copy(cimg_out.im)\n",
    "        processing.ct_ifft(img_revp)\n",
    "        img_rev.data = copy(img_revp.re)\n",
    "        \n",
    "    else:\n",
    "        processing.ifft(cimg_out, img_rev)\n",
    "\n",
    "    plt.rcParams[\"figure.figsize\"] = (15,15)\n",
    "    plt.subplot(121), plt.imshow(cimg_in.re, cmap='gray')\n",
    "    plt.title(\"Fig 1: Original Image\"), plt.xticks([]), plt.yticks([])\n",
    "    plt.subplot(122), plt.imshow(img_rev.data,  cmap='gray')\n",
    "    plt.title(\"Fig 2: Reverted Image\"), plt.xticks([]), plt.yticks([])\n",
    "    plt.show()\n",
    "    \n",
    "    print(img_rev.data.min(), img_rev.data.max())"
   ]
  }
 ],
 "metadata": {
  "kernelspec": {
   "display_name": "Python 3",
   "language": "python",
   "name": "python3"
  },
  "language_info": {
   "codemirror_mode": {
    "name": "ipython",
    "version": 3
   },
   "file_extension": ".py",
   "mimetype": "text/x-python",
   "name": "python",
   "nbconvert_exporter": "python",
   "pygments_lexer": "ipython3",
   "version": "3.7.6"
  }
 },
 "nbformat": 4,
 "nbformat_minor": 4
}
